{
 "cells": [
  {
   "cell_type": "code",
   "execution_count": 2,
   "metadata": {},
   "outputs": [],
   "source": [
    "def f(x):\n",
    "    return 3*x**2 - 4*x + 5\n",
    "def derivative(f, x):\n",
    "    h = 0.0001\n",
    "    return (f(x + h) - f(x))/h"
   ]
  },
  {
   "cell_type": "code",
   "execution_count": 3,
   "metadata": {},
   "outputs": [
    {
     "data": {
      "text/plain": [
       "-15.999700000008943"
      ]
     },
     "execution_count": 3,
     "metadata": {},
     "output_type": "execute_result"
    }
   ],
   "source": [
    "derivative(f, -2)"
   ]
  },
  {
   "cell_type": "code",
   "execution_count": 4,
   "metadata": {},
   "outputs": [],
   "source": [
    "from micrograd.engine import Value"
   ]
  },
  {
   "cell_type": "code",
   "execution_count": 5,
   "metadata": {},
   "outputs": [
    {
     "name": "stdout",
     "output_type": "stream",
     "text": [
      "Value(data=-2.0, grad=0) 1\n",
      "Value(data=0.0, grad=0) 2\n",
      "Value(data=-3.0, grad=0) 3\n",
      "Value(data=-1.0, grad=0) 4\n",
      "Value(data=0.0, grad=0) 5\n",
      "Value(data=6.0, grad=0) 6\n",
      "Value(data=-7.0, grad=0) 7\n",
      "Value(data=49.0, grad=0) 8\n",
      "Value(data=24.5, grad=0) 9\n",
      "Value(data=24.70408163265306, grad=0) 10\n"
     ]
    }
   ],
   "source": [
    "a = Value(-4.0)\n",
    "b = Value(2.0)\n",
    "c = a + b\n",
    "print(c, 1)\n",
    "d = a * b + b**3\n",
    "print(d, 2)\n",
    "c += c + 1\n",
    "print(c, 3)\n",
    "c += 1 + c + (-a)\n",
    "print(c, 4)\n",
    "d += d * 2 + (b + a).relu()\n",
    "print(d, 5)\n",
    "d += 3 * d + (b - a).relu()\n",
    "print(d, 6)\n",
    "e = c - d\n",
    "print(e, 7)\n",
    "f = e**2\n",
    "print(f, 8)\n",
    "g = f / 2.0\n",
    "print(g, 9)\n",
    "g += 10.0 / f\n",
    "print(g, 10)"
   ]
  },
  {
   "cell_type": "code",
   "execution_count": 6,
   "metadata": {},
   "outputs": [
    {
     "data": {
      "text/plain": [
       "Value(data=24.70408163265306, grad=0)"
      ]
     },
     "execution_count": 6,
     "metadata": {},
     "output_type": "execute_result"
    }
   ],
   "source": [
    "g"
   ]
  },
  {
   "cell_type": "code",
   "execution_count": null,
   "metadata": {},
   "outputs": [],
   "source": []
  }
 ],
 "metadata": {
  "kernelspec": {
   "display_name": "Python 3",
   "language": "python",
   "name": "python3"
  },
  "language_info": {
   "codemirror_mode": {
    "name": "ipython",
    "version": 3
   },
   "file_extension": ".py",
   "mimetype": "text/x-python",
   "name": "python",
   "nbconvert_exporter": "python",
   "pygments_lexer": "ipython3",
   "version": "3.9.6"
  }
 },
 "nbformat": 4,
 "nbformat_minor": 2
}
